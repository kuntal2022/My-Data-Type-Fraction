{
  "nbformat": 4,
  "nbformat_minor": 0,
  "metadata": {
    "colab": {
      "provenance": [],
      "authorship_tag": "ABX9TyMEnCD9SdHfhL/nSW/i2uXl",
      "include_colab_link": true
    },
    "kernelspec": {
      "name": "python3",
      "display_name": "Python 3"
    },
    "language_info": {
      "name": "python"
    }
  },
  "cells": [
    {
      "cell_type": "markdown",
      "metadata": {
        "id": "view-in-github",
        "colab_type": "text"
      },
      "source": [
        "<a href=\"https://colab.research.google.com/github/kuntal2022/My-Data-Type-Fraction/blob/main/Fraction.ipynb\" target=\"_parent\"><img src=\"https://colab.research.google.com/assets/colab-badge.svg\" alt=\"Open In Colab\"/></a>"
      ]
    },
    {
      "cell_type": "code",
      "execution_count": 16,
      "metadata": {
        "id": "36Zquoxke2TH"
      },
      "outputs": [],
      "source": [
        "class Fraction:\n",
        "  def __init__(self,n,d):\n",
        "    self.num=n\n",
        "    self.den=d\n",
        "\n",
        "  def __str__(self):\n",
        "    return(\"{}/{}\".format(self.num, self.den))\n",
        "\n",
        "  def __add__(self,other):\n",
        "    temp_num = self.num*other.den + self.den*other.num\n",
        "    temp_den= self.den*other.den\n",
        "    return \"{}/{}\".format(temp_num, temp_den)\n",
        "\n",
        "\n",
        "  def __sub__(self,other):\n",
        "    temp_num = self.num*other.den - self.den*other.num\n",
        "    temp_den= self.den*other.den\n",
        "    return \"{}/{}\".format(temp_num, temp_den)\n",
        "\n",
        "  def __mul__(self, other):\n",
        "    temp_num = self.num*other.num\n",
        "    temp_den= self.den*other.den\n",
        "    return \"{}/{}\".format(temp_num, temp_den)\n",
        "\n",
        "  def __truediv__(self, other):\n",
        "    temp_num = self.num*other.den\n",
        "    temp_den= self.den*other.num\n",
        "    return \"{}/{}\".format(temp_num, temp_den)\n",
        "\n",
        "  def __eq__(self, other):\n",
        "    return self.num*other.den == self.den*other.num\n",
        "\n",
        "  def __ne__(self, other):\n",
        "    return self.num*other.den != self.den*other.num\n",
        "\n",
        "  def __lt__(self, other):\n",
        "    return self.num*other.den < self.den*other.num\n",
        "\n",
        "  def __gt__(self, other):\n",
        "    return self.num*other.den > self.den*other.num\n",
        "\n",
        "  def __le__(self, other):\n",
        "    return self.num*other.den <= self.den*other.num\n",
        "\n",
        "  def __ge__(self, other):\n",
        "    return self.num*other.den >= self.den*other.num\n",
        "\n",
        "  def __float__(self):\n",
        "    return self.num/self.den\n",
        "\n",
        "  def __int__(self):\n",
        "    return int(self.num/self.den)\n",
        "\n",
        "  def __abs__(self):\n",
        "    return abs(self.num)/abs(self.den)\n",
        "\n",
        "  def __pow__(self, power):\n",
        "    return self.num**power/self.den**power\n",
        "\n",
        "\n",
        "  def __repr__(self):\n",
        "    return \"{}/{}\".format(self.num, self.den)\n",
        "\n",
        "  def __str__(self):\n",
        "    return \"{}/{}\".format(self.num, self.den)\n",
        "\n",
        "  def __bool__(self):\n",
        "    return self.num != 0\n",
        "\n",
        "  def __hash__(self):\n",
        "    return hash((self.num, self.den))\n",
        "\n",
        "  def __invert__(self):\n",
        "    return Fraction(self.den, self.num)\n",
        "\n",
        "  def __pos__(self):\n",
        "    return Fraction(self.num, self.den)\n",
        "\n",
        "  def __neg__(self):\n",
        "    return Fraction(-self.num, self.den)\n",
        "\n",
        "  def __round__(self, n=None):\n",
        "    return round(self.num/self.den, n)\n",
        "\n",
        "  def __floor__(self):\n",
        "    return self.num//self.den\n",
        "\n",
        "  def __ceil__(self):\n",
        "    return self.num//self.den\n",
        "\n",
        "  def __trunc__(self):\n",
        "    return self.num//self.den\n",
        "\n",
        "  def __floordiv__(self, other):\n",
        "    return self.num//other.num\n",
        "\n",
        "  def __mod__(self, other):\n",
        "    return self.num%other.num\n",
        "\n",
        "\n",
        "  def __divmod__(self, other):\n",
        "    return divmod(self.num, other.num)\n",
        "\n",
        "\n",
        "  def __radd__(self, other):\n",
        "    return self.__add__(other)\n",
        "\n",
        "\n",
        "  def __rsub__(self, other):\n",
        "    return self.__sub__(other)\n",
        "\n",
        "\n",
        "  def __rmul__(self, other):\n",
        "    return self.__mul__(other)\n",
        "\n",
        "\n",
        "  def __rtruediv__(self, other):\n",
        "    return self.__truediv__(other)\n",
        "\n",
        "\n",
        "  def __rfloordiv__(self, other):\n",
        "    return self.__floordiv__(other)\n",
        "\n",
        "  def __rmod__(self, other):\n",
        "    return self.__mod__(other)\n",
        "\n",
        "  def __rdivmod__(self, other):\n",
        "    return self.__divmod__(other)\n",
        "\n",
        "  def __rpow__(self, other):\n",
        "    return self.__pow__(other)\n",
        "\n",
        "  def __iadd__(self, other):\n",
        "    return self.__add__(other)\n",
        "\n",
        "  def __isub__(self, other):\n",
        "    return self.__sub__(other)\n",
        "\n",
        "  def __imul__(self, other):\n",
        "    return self.__mul__(other)\n",
        "\n",
        "  def __itruediv__(self, other):\n",
        "    return self.__truediv__(other)\n",
        "\n",
        "  def __ifloordiv__(self, other):\n",
        "    return self.__floordiv__(other)\n",
        "\n",
        "  def __imod__(self, other):\n",
        "    return self.__mod__(other)\n",
        "\n",
        "  def __idivmod__(self, other):\n",
        "    return self.__divmod__(other)\n",
        "\n"
      ]
    },
    {
      "cell_type": "code",
      "source": [
        "a=Fraction(1,5)\n",
        "b=Fraction(2,5)\n",
        "print(a+b)\n"
      ],
      "metadata": {
        "colab": {
          "base_uri": "https://localhost:8080/"
        },
        "id": "ng6zlPHrfW5W",
        "outputId": "130bf06a-3f85-4fda-d325-f5cf6ec39fce"
      },
      "execution_count": 17,
      "outputs": [
        {
          "output_type": "stream",
          "name": "stdout",
          "text": [
            "15/25\n"
          ]
        }
      ]
    },
    {
      "cell_type": "code",
      "source": [
        "print(a)"
      ],
      "metadata": {
        "colab": {
          "base_uri": "https://localhost:8080/"
        },
        "id": "fVX6ThBMffP0",
        "outputId": "5a7460d8-a39f-43c8-c0b1-ba8620795a80"
      },
      "execution_count": 8,
      "outputs": [
        {
          "output_type": "stream",
          "name": "stdout",
          "text": [
            "1/5\n"
          ]
        }
      ]
    },
    {
      "cell_type": "code",
      "source": [
        "print(a==b)"
      ],
      "metadata": {
        "colab": {
          "base_uri": "https://localhost:8080/"
        },
        "id": "Sj9x34w1ftPd",
        "outputId": "d6770c24-b7ea-4217-f76d-d322d9bcf76e"
      },
      "execution_count": 15,
      "outputs": [
        {
          "output_type": "stream",
          "name": "stdout",
          "text": [
            "False\n"
          ]
        }
      ]
    },
    {
      "cell_type": "code",
      "source": [
        "print(a!=b)"
      ],
      "metadata": {
        "colab": {
          "base_uri": "https://localhost:8080/"
        },
        "id": "R4THRul3hJo0",
        "outputId": "28682903-6000-4a14-8145-3f1732399764"
      },
      "execution_count": 18,
      "outputs": [
        {
          "output_type": "stream",
          "name": "stdout",
          "text": [
            "True\n"
          ]
        }
      ]
    },
    {
      "cell_type": "code",
      "source": [
        "print(a>b)"
      ],
      "metadata": {
        "colab": {
          "base_uri": "https://localhost:8080/"
        },
        "id": "KADnVrT6h2RL",
        "outputId": "91e1a9c8-af86-4926-cff8-11244960afd1"
      },
      "execution_count": 19,
      "outputs": [
        {
          "output_type": "stream",
          "name": "stdout",
          "text": [
            "False\n"
          ]
        }
      ]
    },
    {
      "cell_type": "code",
      "source": [
        "print(a<b)"
      ],
      "metadata": {
        "colab": {
          "base_uri": "https://localhost:8080/"
        },
        "id": "W9Xk4Lcrh4Wz",
        "outputId": "82311cdb-c0da-47fd-c671-ededa067e6df"
      },
      "execution_count": 20,
      "outputs": [
        {
          "output_type": "stream",
          "name": "stdout",
          "text": [
            "True\n"
          ]
        }
      ]
    },
    {
      "cell_type": "code",
      "source": [
        "print(a>=b)"
      ],
      "metadata": {
        "colab": {
          "base_uri": "https://localhost:8080/"
        },
        "id": "yN5uvQBsh6Fj",
        "outputId": "7b90ee5b-48bf-44b9-e1c0-3d890993c7dc"
      },
      "execution_count": 21,
      "outputs": [
        {
          "output_type": "stream",
          "name": "stdout",
          "text": [
            "False\n"
          ]
        }
      ]
    },
    {
      "cell_type": "code",
      "source": [
        "print(a<=b)"
      ],
      "metadata": {
        "colab": {
          "base_uri": "https://localhost:8080/"
        },
        "id": "LESEGEpqh7YT",
        "outputId": "d0db3dc1-8ab3-4b4c-b91f-0d340aebd02f"
      },
      "execution_count": 22,
      "outputs": [
        {
          "output_type": "stream",
          "name": "stdout",
          "text": [
            "True\n"
          ]
        }
      ]
    },
    {
      "cell_type": "code",
      "source": [
        "print(a-b)"
      ],
      "metadata": {
        "colab": {
          "base_uri": "https://localhost:8080/"
        },
        "id": "CYYnjC9Wh8kr",
        "outputId": "bec2b4c2-5955-4da5-bee3-3d674d37b20d"
      },
      "execution_count": 23,
      "outputs": [
        {
          "output_type": "stream",
          "name": "stdout",
          "text": [
            "-5/25\n"
          ]
        }
      ]
    },
    {
      "cell_type": "code",
      "source": [
        "print(a*b)"
      ],
      "metadata": {
        "colab": {
          "base_uri": "https://localhost:8080/"
        },
        "id": "TZtMkqQbh90D",
        "outputId": "fa291b25-78b2-4b23-d4cf-c48f9296ecb2"
      },
      "execution_count": 24,
      "outputs": [
        {
          "output_type": "stream",
          "name": "stdout",
          "text": [
            "2/25\n"
          ]
        }
      ]
    },
    {
      "cell_type": "code",
      "source": [
        "print(a/b)"
      ],
      "metadata": {
        "colab": {
          "base_uri": "https://localhost:8080/"
        },
        "id": "g7uoZ2C9h_KT",
        "outputId": "3c2d4b00-02df-472d-99fc-297b88687411"
      },
      "execution_count": 25,
      "outputs": [
        {
          "output_type": "stream",
          "name": "stdout",
          "text": [
            "5/10\n"
          ]
        }
      ]
    },
    {
      "cell_type": "code",
      "source": [
        "print(a**b)"
      ],
      "metadata": {
        "colab": {
          "base_uri": "https://localhost:8080/"
        },
        "id": "ygfoMmc6iAkj",
        "outputId": "7da6d361-469c-4a62-fe44-261065f0a319"
      },
      "execution_count": 26,
      "outputs": [
        {
          "output_type": "stream",
          "name": "stdout",
          "text": [
            "39.0625\n"
          ]
        }
      ]
    },
    {
      "cell_type": "code",
      "source": [
        "print(a//b)"
      ],
      "metadata": {
        "colab": {
          "base_uri": "https://localhost:8080/"
        },
        "id": "LyEjr-_kiCFz",
        "outputId": "ac13d0dc-7f7a-4385-8346-ab4c6ebf9edc"
      },
      "execution_count": 27,
      "outputs": [
        {
          "output_type": "stream",
          "name": "stdout",
          "text": [
            "0\n"
          ]
        }
      ]
    },
    {
      "cell_type": "code",
      "source": [
        "print(a%b)"
      ],
      "metadata": {
        "colab": {
          "base_uri": "https://localhost:8080/"
        },
        "id": "rKttDSvbiDt7",
        "outputId": "1d7429b0-de6b-49e1-9957-5af5e72111c4"
      },
      "execution_count": 28,
      "outputs": [
        {
          "output_type": "stream",
          "name": "stdout",
          "text": [
            "1\n"
          ]
        }
      ]
    },
    {
      "cell_type": "code",
      "source": [
        "print(divmod(a,b))"
      ],
      "metadata": {
        "colab": {
          "base_uri": "https://localhost:8080/"
        },
        "id": "tkiIqvNGiF-T",
        "outputId": "52cbedce-f683-4896-ee02-4129be2b2c5f"
      },
      "execution_count": 29,
      "outputs": [
        {
          "output_type": "stream",
          "name": "stdout",
          "text": [
            "(0, 1)\n"
          ]
        }
      ]
    },
    {
      "cell_type": "code",
      "source": [],
      "metadata": {
        "id": "CYJvofreiHYz"
      },
      "execution_count": null,
      "outputs": []
    }
  ]
}